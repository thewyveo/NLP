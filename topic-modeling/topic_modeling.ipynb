{
 "cells": [
  {
   "cell_type": "code",
   "execution_count": 1,
   "id": "4aafb60b",
   "metadata": {},
   "outputs": [],
   "source": [
    "# importations (might take a minute)\n",
    "from sklearn.metrics import classification_report\n",
    "import pandas as pd\n",
    "\n",
    "from logisticreg import logreg\n",
    "from lda_lsa import lda, lsa\n",
    "from mlp import MLP, train_mlp_kfold\n",
    "\n",
    "from preprocessing import preprocess\n",
    "training_dataset = preprocess()"
   ]
  },
  {
   "cell_type": "markdown",
   "id": "81d835ef",
   "metadata": {},
   "source": [
    "Logistic Regression approach (supervised)"
   ]
  },
  {
   "cell_type": "code",
   "execution_count": null,
   "id": "90c82abf",
   "metadata": {},
   "outputs": [
    {
     "name": "stdout",
     "output_type": "stream",
     "text": [
      "Training mean accuracy: 0.87\n",
      "\n",
      "IDX - C/IC - PRED LABEL - TRUE LABEL - TEXT\n",
      "1 - correct - sports - sports - The stadium was alive with the roar of the crowd after that incredible win.\n",
      "2 - correct - sports - sports - That last-minute goal had me jumping out of my seat—what an unbelievable finish!\n",
      "3 - correct - book - book - I couldn’t put the book down; it swept me into a whole new world.\n",
      "4 - correct - book - book - The story had its moments, though some parts felt like they dragged on a bit.\n",
      "5 - INcorrect - movie - book - I enjoyed the way the timelines shifted, even if it got a little confusing sometimes.\n",
      "6 - correct - movie - movie - Every time I watch this movie, I notice something new—it really grows on you.\n",
      "7 - correct - movie - movie - The movie was a wild ride from start to finish; I was on the edge of my seat the entire time.\n",
      "8 - correct - sports - sports - Honestly, the team just fell apart in the second half, and it showed on the field.\n",
      "9 - correct - sports - sports - No surprise there—the coach rested a few players given how packed the schedule was.\n",
      "10 - correct - movie - movie - The trailer was decent, giving you a taste without spilling all the secrets.\n",
      "11 - INcorrect - movie - book - I found the main character so annoying that it was hard to care about what happened next.\n",
      "12 - correct - book - book - The author's style feels really genuine, making each sentence resonate.\n",
      "13 - correct - movie - movie - The movie never really clicked for me; the leads just lacked any real spark.\n",
      "14 - INcorrect - movie - sports - Both teams are playing it safe right now, so it's hard to tell who’ll eventually take the lead.\n",
      "15 - correct - sports - sports - Frankly, I don’t get the hype—it’s just a game after all.\n",
      "16 - correct - movie - movie - Word is, the screenplay was scribbled down during a casual coffee break at a busy cafe.\n",
      "17 - INcorrect - sports - movie - It’s surprising how a promising start could unravel into such a disappointing finish.\n",
      "18 - correct - book - book - In the end, the book was more useful as a coaster than as something worth reading.\n",
      "\n",
      "Total incorrect predictions: 4 out of 18\n"
     ]
    }
   ],
   "source": [
    "def model_LogisticRegression(training_dataset):\n",
    "    training_mean_acc, (y_pred, y_true), sentences = logreg(training_dataset)\n",
    "    wrongs = 0\n",
    "\n",
    "    # printing results\n",
    "    print(f'Training mean accuracy: {training_mean_acc:.2f}\\n')\n",
    "    print('IDX - C/IC - PRED LABEL - TRUE LABEL - TEXT')\n",
    "    for idx, (y_pred, y_true) in enumerate(zip(y_pred, y_true)):\n",
    "        if y_pred != y_true:\n",
    "            print(f'{idx+1} - INcorrect - {y_pred} - {y_true} - {sentences[idx]}')\n",
    "            wrongs += 1\n",
    "        else:\n",
    "            print(f'{idx+1} - correct - {y_pred} - {y_true} - {sentences[idx]}')\n",
    "    print(f'\\nTotal incorrect predictions: {wrongs} out of 18')\n",
    "    \n",
    "if __name__ == '__main__':\n",
    "    model_LogisticRegression(training_dataset)"
   ]
  },
  {
   "cell_type": "markdown",
   "id": "33a0720f",
   "metadata": {},
   "source": [
    "LDA+LSA approach (supervised)"
   ]
  },
  {
   "cell_type": "code",
   "execution_count": null,
   "id": "bb76b90b",
   "metadata": {},
   "outputs": [
    {
     "name": "stdout",
     "output_type": "stream",
     "text": [
      "=== TRAINING ===\n",
      "1/10\n",
      "2/10\n",
      "3/10\n",
      "4/10\n",
      "5/10\n",
      "Training mean accuracy LDA: 0.79\n",
      "6/10\n",
      "7/10\n",
      "8/10\n",
      "9/10\n",
      "10/10\n",
      "Training mean accuracy LSA: 0.76\n",
      "\n",
      "=== TESTING ===\n",
      "--- LDA ---\n",
      "IDX - C/IC - PRED LABEL - TRUE LABEL - TEXT\n",
      "1 - correct - sports - sports - The stadium was alive with the roar of the crowd after that incredible win.\n",
      "2 - correct - sports - sports - That last-minute goal had me jumping out of my seat—what an unbelievable finish!\n",
      "3 - correct - book - book - I couldn’t put the book down; it swept me into a whole new world.\n",
      "4 - correct - book - book - The story had its moments, though some parts felt like they dragged on a bit.\n",
      "5 - correct - book - book - I enjoyed the way the timelines shifted, even if it got a little confusing sometimes.\n",
      "6 - correct - movie - movie - Every time I watch this movie, I notice something new—it really grows on you.\n",
      "7 - correct - movie - movie - The movie was a wild ride from start to finish; I was on the edge of my seat the entire time.\n",
      "8 - correct - sports - sports - Honestly, the team just fell apart in the second half, and it showed on the field.\n",
      "9 - correct - sports - sports - No surprise there—the coach rested a few players given how packed the schedule was.\n",
      "10 - correct - movie - movie - The trailer was decent, giving you a taste without spilling all the secrets.\n",
      "11 - INcorrect - movie - book- I found the main character so annoying that it was hard to care about what happened next.\n",
      "12 - correct - book - book - The author's style feels really genuine, making each sentence resonate.\n",
      "13 - correct - movie - movie - The movie never really clicked for me; the leads just lacked any real spark.\n",
      "14 - correct - sports - sports - Both teams are playing it safe right now, so it's hard to tell who’ll eventually take the lead.\n",
      "15 - INcorrect - book - sports- Frankly, I don’t get the hype—it’s just a game after all.\n",
      "16 - INcorrect - book - movie- Word is, the screenplay was scribbled down during a casual coffee break at a busy cafe.\n",
      "17 - INcorrect - sports - movie- It’s surprising how a promising start could unravel into such a disappointing finish.\n",
      "18 - correct - book - book - In the end, the book was more useful as a coaster than as something worth reading.\n",
      "\n",
      "Total incorrect predictions: 4 out of 18\n",
      "\n",
      "--- LSA ---\n",
      "IDX - C/IC - PRED LABEL - TRUE LABEL - TEXT\n",
      "1 - correct - sports - sports - The stadium was alive with the roar of the crowd after that incredible win.\n",
      "2 - correct - sports - sports - That last-minute goal had me jumping out of my seat—what an unbelievable finish!\n",
      "3 - correct - book - book - I couldn’t put the book down; it swept me into a whole new world.\n",
      "4 - INcorrect - movie - book- The story had its moments, though some parts felt like they dragged on a bit.\n",
      "5 - INcorrect - sports - book- I enjoyed the way the timelines shifted, even if it got a little confusing sometimes.\n",
      "6 - correct - movie - movie - Every time I watch this movie, I notice something new—it really grows on you.\n",
      "7 - correct - movie - movie - The movie was a wild ride from start to finish; I was on the edge of my seat the entire time.\n",
      "8 - correct - sports - sports - Honestly, the team just fell apart in the second half, and it showed on the field.\n",
      "9 - INcorrect - book - sports- No surprise there—the coach rested a few players given how packed the schedule was.\n",
      "10 - INcorrect - book - movie- The trailer was decent, giving you a taste without spilling all the secrets.\n",
      "11 - INcorrect - movie - book- I found the main character so annoying that it was hard to care about what happened next.\n",
      "12 - correct - book - book - The author's style feels really genuine, making each sentence resonate.\n",
      "13 - correct - movie - movie - The movie never really clicked for me; the leads just lacked any real spark.\n",
      "14 - correct - sports - sports - Both teams are playing it safe right now, so it's hard to tell who’ll eventually take the lead.\n",
      "15 - correct - sports - sports - Frankly, I don’t get the hype—it’s just a game after all.\n",
      "16 - INcorrect - book - movie- Word is, the screenplay was scribbled down during a casual coffee break at a busy cafe.\n",
      "17 - INcorrect - sports - movie- It’s surprising how a promising start could unravel into such a disappointing finish.\n",
      "18 - correct - book - book - In the end, the book was more useful as a coaster than as something worth reading.\n",
      "\n",
      "Total incorrect predictions: 7 out of 18\n",
      "\n"
     ]
    }
   ],
   "source": [
    "def model_LDA_LSA(training_dataset):\n",
    "    print('=== TRAINING ===')\n",
    "    training_mean_acc_lda, (y_pred_lda, y_true_lda), sentences = lda(training_dataset)\n",
    "    print(f'Training mean accuracy LDA: {training_mean_acc_lda:.2f}')\n",
    "    training_mean_acc_lsa, (y_pred_lsa, y_true_lsa), sentences = lsa(training_dataset)\n",
    "    print(f'Training mean accuracy LSA: {training_mean_acc_lsa:.2f}')\n",
    "    \n",
    "    print('\\n=== TESTING ===')\n",
    "    for idx, model in enumerate([(training_mean_acc_lda, y_pred_lda, y_true_lda), (training_mean_acc_lsa, y_pred_lsa, y_true_lsa)]):\n",
    "        print('--- LDA ---' if idx == 0 else '--- LSA ---')\n",
    "        print('IDX - C/IC - PRED LABEL - TRUE LABEL - TEXT')\n",
    "        _, y_pred, y_true = model\n",
    "        wrongs = 0\n",
    "        for idx, (y_pred, y_true) in enumerate(zip(y_pred, y_true)):\n",
    "            if y_pred != y_true:\n",
    "                print(f'{idx+1} - INcorrect - {y_pred} - {y_true}- {sentences[idx]}')\n",
    "                wrongs += 1\n",
    "            else:\n",
    "                print(f'{idx+1} - correct - {y_pred} - {y_true} - {sentences[idx]}')\n",
    "        print(f'\\nTotal incorrect predictions: {wrongs} out of 18\\n')\n",
    "\n",
    "if __name__ == '__main__':\n",
    "    model_LDA_LSA(training_dataset)"
   ]
  }
 ],
 "metadata": {
  "kernelspec": {
   "display_name": "Python 3",
   "language": "python",
   "name": "python3"
  },
  "language_info": {
   "codemirror_mode": {
    "name": "ipython",
    "version": 3
   },
   "file_extension": ".py",
   "mimetype": "text/x-python",
   "name": "python",
   "nbconvert_exporter": "python",
   "pygments_lexer": "ipython3",
   "version": "3.11.4"
  }
 },
 "nbformat": 4,
 "nbformat_minor": 5
}
