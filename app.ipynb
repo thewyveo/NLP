{
 "cells": [
  {
   "cell_type": "code",
   "execution_count": 1,
   "id": "784e9e04",
   "metadata": {},
   "outputs": [],
   "source": [
    "from nerc.models import Named_Entity_Recognition_Classification_Component\n",
    "from sentiment.models import Sentiment_Analysis_Component\n",
    "from topic_modeling.models import Topic_Modeling_Component"
   ]
  },
  {
   "cell_type": "code",
   "execution_count": null,
   "id": "33cb0527",
   "metadata": {},
   "outputs": [
    {
     "name": "stdout",
     "output_type": "stream",
     "text": [
      "\n",
      " ___          _   _               _       _             _         _    \n",
      "/ __| ___ _ _| |_(_)_ __  ___ _ _| |_    /_\\  _ _  __ _| |_  _ __(_)___\n",
      "\\__ \\/ -_) ' \\  _| | '  \\/ -_) ' \\  _|  / _ \\| ' \\/ _` | | || (_-< (_-<\n",
      "|___/\\___|_||_\\__|_|_|_|_\\___|_||_\\__| /_/ \\_\\_||_\\__,_|_|\\_, /__/_/__/\n",
      "                                                          |__/         \n",
      "\n"
     ]
    },
    {
     "name": "stderr",
     "output_type": "stream",
     "text": [
      "[nltk_data] Downloading package vader_lexicon to\n",
      "[nltk_data]     /Users/kayra/nltk_data...\n",
      "[nltk_data]   Package vader_lexicon is already up-to-date!\n"
     ]
    },
    {
     "name": "stdout",
     "output_type": "stream",
     "text": [
      "\n",
      "ST - Running Logistic Regression model...\n",
      "ST - Logistic Regression Model Training Mean Accuracy: 0.5435\n",
      "ST - Running VADER model (might take a while)...\n"
     ]
    }
   ],
   "source": [
    "if __name__ == \"__main__\":\n",
    "    #Named_Entity_Recognition_Classification_Component()\n",
    "    Sentiment_Analysis_Component()\n",
    "    Topic_Modeling_Component()"
   ]
  }
 ],
 "metadata": {
  "kernelspec": {
   "display_name": "Python 3",
   "language": "python",
   "name": "python3"
  },
  "language_info": {
   "codemirror_mode": {
    "name": "ipython",
    "version": 3
   },
   "file_extension": ".py",
   "mimetype": "text/x-python",
   "name": "python",
   "nbconvert_exporter": "python",
   "pygments_lexer": "ipython3",
   "version": "3.11.4"
  }
 },
 "nbformat": 4,
 "nbformat_minor": 5
}
