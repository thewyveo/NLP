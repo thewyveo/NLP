{
 "cells": [
  {
   "cell_type": "code",
   "execution_count": null,
   "id": "784e9e04",
   "metadata": {},
   "outputs": [],
   "source": [
    "from topic_modeling.models import Topic_Modeling_Component\n",
    "#from sentiment.models import Sentiment_Analysis_Component\n",
    "#from nerc.models import NERC_Component"
   ]
  },
  {
   "cell_type": "code",
   "execution_count": null,
   "id": "33cb0527",
   "metadata": {},
   "outputs": [],
   "source": [
    "if __name__ == \"__main__\":\n",
    "    #NERC_Component()\n",
    "    #Sentiment_Analysis_Component()\n",
    "    Topic_Modeling_Component()"
   ]
  }
 ],
 "metadata": {
  "language_info": {
   "name": "python"
  }
 },
 "nbformat": 4,
 "nbformat_minor": 5
}
