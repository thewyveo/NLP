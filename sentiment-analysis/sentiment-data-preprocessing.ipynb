{
 "cells": [
  {
   "cell_type": "markdown",
   "id": "b022532d",
   "metadata": {},
   "source": [
    "Importing and Preprocessing Datasets"
   ]
  },
  {
   "cell_type": "code",
   "execution_count": 53,
   "id": "ce56d272",
   "metadata": {},
   "outputs": [
    {
     "name": "stdout",
     "output_type": "stream",
     "text": [
      "                                            sentence sentiment   topic\n",
      "0  The stadium was alive with the roar of the cro...  positive  sports\n",
      "1  That last-minute goal had me jumping out of my...  positive  sports\n",
      "2  I couldn’t put the book down; it swept me into...  positive    book\n",
      "3  The story had its moments, though some parts f...   neutral    book\n",
      "4  I enjoyed the way the timelines shifted, even ...   neutral    book\n"
     ]
    }
   ],
   "source": [
    "import pandas as pd\n",
    "\n",
    "test_data = pd.read_csv('sentiment-topic-test.tsv', sep='\\t')\n",
    "test_data.drop('sentence_id', axis=1, inplace=True)\n",
    "print(test_data.head())"
   ]
  },
  {
   "cell_type": "code",
   "execution_count": 82,
   "id": "c4b01de2",
   "metadata": {},
   "outputs": [
    {
     "name": "stdout",
     "output_type": "stream",
     "text": [
      "(11855, 4)\n",
      "sentiment\n",
      "neutral     5032\n",
      "positive    3449\n",
      "negative    3374\n",
      "Name: count, dtype: int64\n"
     ]
    }
   ],
   "source": [
    "sentences = pd.read_csv('stanfordSentimentTreebank\\datasetSentences.txt', sep='\\t')\n",
    "sentiments = pd.read_csv('stanfordSentimentTreebank\\sentiment_labels.txt', sep='|', engine='python')\n",
    "sentiments.columns = ['sentence_index', 'sentiment_value']\n",
    "\n",
    "train_data_stf = pd.merge(sentences, sentiments, on='sentence_index')\n",
    "train_data_stf = train_data_stf.rename(columns={'sentence': 'text', 'sentiment_value': 'rating'})\n",
    "train_data_stf.drop('sentence_index', axis=1, inplace=True)\n",
    "train_data_stf['dataset'] = 'stanfordSentimentTreebank'\n",
    "\n",
    "train_data_stf['rating'] = (train_data_stf['rating'] * 5).clip(0, 5)\n",
    "\n",
    "def rating_to_sentiment(rating):\n",
    "    if rating >= 2.8:\n",
    "        return 'positive'\n",
    "    elif rating <= 2.2:\n",
    "        return 'negative'\n",
    "    else:\n",
    "        return 'neutral'\n",
    "    \n",
    "train_data_stf['sentiment'] = train_data_stf['rating'].apply(rating_to_sentiment)\n",
    "'''\n",
    "to_dropp = train_data_stf[train_data_stf['sentiment'] == 'positive'].index[:114]\n",
    "train_data_stf = train_data_stf.drop(index=to_dropp)\n",
    "\n",
    "to_dropp = train_data_stf[train_data_stf['sentiment'] == 'negative'].index[:17]\n",
    "train_data_stf = train_data_stf.drop(index=to_dropp)\n",
    "\n",
    "to_dropp = train_data_stf[train_data_stf['sentiment'] == 'neutral'].index[:224]\n",
    "train_data_stf = train_data_stf.drop(index=to_dropp)\n",
    "'''\n",
    "train_data_stf.to_csv(\"stf_dataset.csv\", index=False)\n",
    "\n",
    "print(train_data_stf.shape)\n",
    "print(train_data_stf['sentiment'].value_counts())"
   ]
  },
  {
   "cell_type": "code",
   "execution_count": 83,
   "id": "7aed352b",
   "metadata": {},
   "outputs": [
    {
     "name": "stderr",
     "output_type": "stream",
     "text": [
      "C:\\Users\\Lenovo\\AppData\\Local\\Temp\\ipykernel_13724\\1420296558.py:12: SettingWithCopyWarning: \n",
      "A value is trying to be set on a copy of a slice from a DataFrame.\n",
      "Try using .loc[row_indexer,col_indexer] = value instead\n",
      "\n",
      "See the caveats in the documentation: https://pandas.pydata.org/pandas-docs/stable/user_guide/indexing.html#returning-a-view-versus-a-copy\n",
      "  train_data['dataset'] = 'amazonReviews'\n",
      "C:\\Users\\Lenovo\\AppData\\Local\\Temp\\ipykernel_13724\\1420296558.py:23: SettingWithCopyWarning: \n",
      "A value is trying to be set on a copy of a slice from a DataFrame.\n",
      "Try using .loc[row_indexer,col_indexer] = value instead\n",
      "\n",
      "See the caveats in the documentation: https://pandas.pydata.org/pandas-docs/stable/user_guide/indexing.html#returning-a-view-versus-a-copy\n",
      "  train_data['sentiment'] = train_data['rating'].apply(rating_to_sentiment)\n",
      "C:\\Users\\Lenovo\\AppData\\Local\\Temp\\ipykernel_13724\\1420296558.py:31: DeprecationWarning: DataFrameGroupBy.apply operated on the grouping columns. This behavior is deprecated, and in a future version of pandas the grouping columns will be excluded from the operation. Either pass `include_groups=False` to exclude the groupings or explicitly select the grouping columns after groupby to silence this warning.\n",
      "  train_data_amazon = train_data.groupby('sentiment').apply(\n"
     ]
    },
    {
     "name": "stdout",
     "output_type": "stream",
     "text": [
      "Original rating distribution:\n",
      "sentiment\n",
      "negative     6439\n",
      "neutral     10006\n",
      "positive    83555\n",
      "Name: count, dtype: int64\n",
      "\n",
      "Minimum count: 6439\n",
      "\n",
      "Balanced sentiment distribution:\n",
      "sentiment\n",
      "negative    6439\n",
      "neutral     6439\n",
      "positive    6439\n",
      "Name: count, dtype: int64\n",
      "\n",
      "Original dataset size: 100000\n",
      "Balanced dataset size: 19317\n"
     ]
    }
   ],
   "source": [
    "from datasets import load_dataset\n",
    "\n",
    "dataset = load_dataset(\n",
    "    \"McAuley-Lab/Amazon-Reviews-2023\", \n",
    "    \"raw_review_Books\", \n",
    "    split=\"full[:100000]\", \n",
    "    trust_remote_code=True\n",
    "    )\n",
    "\n",
    "df = pd.DataFrame(dataset)\n",
    "train_data = df[['rating', 'text']]\n",
    "train_data['dataset'] = 'amazonReviews'\n",
    "\n",
    "\n",
    "def rating_to_sentiment(rating):\n",
    "    if rating == 4.0 or rating == 5.0:\n",
    "        return 'positive'\n",
    "    elif rating == 1.0 or rating == 2.0:\n",
    "        return 'negative'\n",
    "    else:\n",
    "        return 'neutral'\n",
    "\n",
    "train_data['sentiment'] = train_data['rating'].apply(rating_to_sentiment)\n",
    "\n",
    "print(\"Original rating distribution:\")\n",
    "print(train_data['sentiment'].value_counts().sort_index())\n",
    "\n",
    "min_count = train_data['sentiment'].value_counts().min()\n",
    "print(f\"\\nMinimum count: {min_count}\")\n",
    "\n",
    "train_data_amazon = train_data.groupby('sentiment').apply(\n",
    "    lambda x: x.sample(n=min_count, random_state=42)\n",
    ").reset_index(drop=True)\n",
    "\n",
    "print(f\"\\nBalanced sentiment distribution:\")\n",
    "print(train_data_amazon['sentiment'].value_counts().sort_index())\n",
    "print(f\"\\nOriginal dataset size: {len(train_data)}\")\n",
    "print(f\"Balanced dataset size: {len(train_data_amazon)}\")\n",
    "train_data_amazon.to_csv(\"amazon_dataset.csv\", index=False)"
   ]
  },
  {
   "cell_type": "code",
   "execution_count": 94,
   "id": "d6c4e933",
   "metadata": {},
   "outputs": [
    {
     "name": "stdout",
     "output_type": "stream",
     "text": [
      "   rating                                               text        dataset  \\\n",
      "0     2.0  Super religious so a miss for me.  If I had du...  amazonReviews   \n",
      "1     5.0  Interesting story line and characters are easy...  amazonReviews   \n",
      "2     5.0  I was looking for a good book to read, and I g...  amazonReviews   \n",
      "3     4.0  A beautifully bound Book about curious Cats, d...  amazonReviews   \n",
      "4     5.0  Home Depots construction books are always good...  amazonReviews   \n",
      "\n",
      "  sentiment  \n",
      "0  negative  \n",
      "1  positive  \n",
      "2  positive  \n",
      "3  positive  \n",
      "4  positive  \n",
      "(31172, 4)\n",
      "sentiment\n",
      "neutral     11471\n",
      "positive     9888\n",
      "negative     9813\n",
      "Name: count, dtype: int64\n"
     ]
    }
   ],
   "source": [
    "train_data_combined = pd.concat([train_data_amazon, train_data_stf], ignore_index=True)\n",
    "train_data_combined = train_data_combined.sample(frac=1, random_state=42).reset_index(drop=True)\n",
    "print(train_data_combined.head())\n",
    "print(train_data_combined.shape)\n",
    "print(train_data_combined['sentiment'].value_counts())\n",
    "\n",
    "train_data_combined.to_csv(\"new_dataset_combined.csv\", index=False)"
   ]
  },
  {
   "cell_type": "code",
   "execution_count": 89,
   "id": "ff151e62",
   "metadata": {},
   "outputs": [
    {
     "name": "stdout",
     "output_type": "stream",
     "text": [
      "   rating                                               text sentiment\n",
      "0     1.0  The premise of this book was a good one. A boo...  negative\n",
      "1     5.0  Simply and eloquently articulates the tangled ...  positive\n",
      "2     5.0  Janet Stevens is a wonderful illustrator.  Whe...  positive\n",
      "3     5.0  The film makes a tragic error by going on for ...  positive\n",
      "4     5.0  and your reward will be a thoughtful , emotion...  positive\n"
     ]
    },
    {
     "data": {
      "image/png": "[encoded data removed]",
      "text/plain": [
       "<Figure size 1200x600 with 1 Axes>"
      ]
     },
     "metadata": {},
     "output_type": "display_data"
    }
   ],
   "source": [
    "dataset = pd.read_csv(\"dataset_combined.csv\")\n",
    "print(dataset.head())\n",
    "\n",
    "import matplotlib.pyplot as plt\n",
    "import seaborn as sns\n",
    "\n",
    "# Set style\n",
    "plt.figure(figsize=(12, 6))\n",
    "sns.set_style(\"whitegrid\")\n",
    "\n",
    "# Create color mapping\n",
    "palette = {'negative': '#d62728', 'neutral': '#ff7f0e', 'positive': '#2ca02c'}\n",
    "\n",
    "# Create plot\n",
    "ax = sns.countplot(data=dataset, x='rating', hue='sentiment', palette=palette)\n",
    "\n",
    "# Customize plot\n",
    "plt.title('Rating Distribution with Sentiment Breakdown', fontsize=14, pad=20)\n",
    "plt.xlabel('Rating (1-5 stars)', fontsize=12)\n",
    "plt.ylabel('Count', fontsize=12)\n",
    "plt.legend(title='Sentiment', bbox_to_anchor=(1.05, 1), loc='upper left')\n",
    "\n",
    "# Add annotations\n",
    "for p in ax.patches:\n",
    "    height = p.get_height()\n",
    "    if height > 0:\n",
    "        ax.text(p.get_x() + p.get_width()/2., height + 5,\n",
    "                f'{int(height)}',\n",
    "                ha=\"center\", fontsize=10)\n",
    "\n",
    "# Add reference lines and styling\n",
    "plt.axhline(0, color='black', linewidth=0.5)\n",
    "plt.grid(axis='y', linestyle='--', alpha=0.7)\n",
    "\n",
    "# Adjust layout\n",
    "plt.tight_layout()\n",
    "plt.show()"
   ]
  },
  {
   "cell_type": "code",
   "execution_count": 92,
   "id": "a5b278e2",
   "metadata": {},
   "outputs": [
    {
     "name": "stdout",
     "output_type": "stream",
     "text": [
      "New class distribution:\n",
      "sentiment\n",
      "positive    2773\n",
      "negative    2773\n",
      "neutral     2773\n",
      "Name: count, dtype: int64\n"
     ]
    }
   ],
   "source": [
    "import pandas as pd\n",
    "\n",
    "# Undersample positive class to 2500 instances\n",
    "positive_samples = dataset[dataset['sentiment'] == 'positive']\n",
    "undersampled_positive = positive_samples.sample(n=2773, random_state=42)\n",
    "\n",
    "# Get all negative and neutral samples\n",
    "other_samples = dataset[dataset['sentiment'] != 'positive']\n",
    "\n",
    "# Combine undersampled positive with original negative/neutral\n",
    "undersampled_dataset = pd.concat([undersampled_positive, other_samples])\n",
    "\n",
    "# Verify the new distribution\n",
    "print(\"New class distribution:\")\n",
    "print(undersampled_dataset['sentiment'].value_counts())\n",
    "\n",
    "# Shuffle the dataset\n",
    "undersampled_dataset = undersampled_dataset.sample(frac=1, random_state=42).reset_index(drop=True)\n",
    "\n"
   ]
  },
  {
   "cell_type": "code",
   "execution_count": 93,
   "id": "b024b517",
   "metadata": {},
   "outputs": [],
   "source": [
    "undersampled_dataset.to_csv(\"undersampled_dataset.csv\", index=False)"
   ]
  }
 ],
 "metadata": {
  "kernelspec": {
   "display_name": "env",
   "language": "python",
   "name": "python3"
  },
  "language_info": {
   "codemirror_mode": {
    "name": "ipython",
    "version": 3
   },
   "file_extension": ".py",
   "mimetype": "text/x-python",
   "name": "python",
   "nbconvert_exporter": "python",
   "pygments_lexer": "ipython3",
   "version": "3.11.9"
  }
 },
 "nbformat": 4,
 "nbformat_minor": 5
}
